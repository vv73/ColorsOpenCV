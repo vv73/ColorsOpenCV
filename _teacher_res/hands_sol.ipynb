{
 "cells": [
  {
   "cell_type": "markdown",
   "source": [
    "# Рабочая тетрадь к занятию «Mediapipe. Модуль Hands»"
   ],
   "metadata": {
    "collapsed": false,
    "pycharm": {
     "name": "#%% md\n"
    }
   }
  },
  {
   "cell_type": "markdown",
   "source": [
    "## Задание №1\n",
    "Переделайте программу так, чтобы она брала изображение с камеры и обрабатывала видеопоток"
   ],
   "metadata": {
    "collapsed": false,
    "pycharm": {
     "name": "#%% md\n"
    }
   }
  },
  {
   "cell_type": "code",
   "execution_count": 3,
   "outputs": [],
   "source": [
    "# 0. Импортируем необходимое\n",
    "# из библиотек OpenCV и MediaPipe\n",
    "import cv2\n",
    "import mediapipe as mp\n",
    "from mediapipe.tasks import python\n",
    "from mediapipe.tasks.python import vision\n",
    "# и собственную функцию для рисования\n",
    "from draw_landmarks import draw_landmarks_on_image"
   ],
   "metadata": {
    "collapsed": false,
    "pycharm": {
     "name": "#%%\n"
    }
   }
  },
  {
   "cell_type": "code",
   "execution_count": 19,
   "outputs": [],
   "source": [
    "# 1. Создаем и настраиваем детектор\n",
    "base_options = python.BaseOptions(model_asset_path='hand_landmarker.task')\n",
    "options = vision.HandLandmarkerOptions(base_options=base_options,\n",
    "                                       num_hands=2)\n",
    "detector = vision.HandLandmarker.create_from_options(options)"
   ],
   "metadata": {
    "collapsed": false,
    "pycharm": {
     "name": "#%%\n"
    }
   }
  },
  {
   "cell_type": "code",
   "execution_count": null,
   "metadata": {
    "collapsed": true,
    "pycharm": {
     "name": "#%%\n"
    }
   },
   "outputs": [],
   "source": [
    "# 2 Oткрываем видеопоток\n",
    "cap = cv2.VideoCapture(0)\n",
    "if not cap.isOpened():\n",
    "  raise IOError(\"Ошибка видеозахвата!\")\n",
    "\n",
    "key = None\n",
    "# завершить программу можно клавишей ESC\n",
    "while cap.isOpened() and key != 27:\n",
    "    # 2. Подготовливаем изображение\n",
    "    ret, frame = cap.read()\n",
    "    if ret != True:\n",
    "        continue\n",
    "    # Отражаем кадр по горизонтали\n",
    "    frame = frame[:, ::-1, :]\n",
    "    # Перeводим его в формат Mediapipe-изображений\n",
    "    frame = cv2.cvtColor(frame, cv2.COLOR_BGR2RGB)\n",
    "    image = mp.Image(image_format=mp.ImageFormat.SRGB, data=frame)\n",
    "\n",
    "    # 3. Самое главное: РАСПОЗНАЕМ\n",
    "    detection_result = detector.detect(image)\n",
    "\n",
    "    # Отрисовываем результат распознавания\n",
    "    annotated_image = draw_landmarks_on_image(image, detection_result)\n",
    "    cv2.imshow(\"Result\", cv2.cvtColor(annotated_image, cv2.COLOR_RGB2BGR))\n",
    "\n",
    "    # Задерживаем программу до нажатия на кнопку\n",
    "    key = cv2.waitKey(1)\n",
    "cv2.destroyAllWindows()"
   ]
  },
  {
   "cell_type": "markdown",
   "source": [
    "## Задание №2\n",
    "Допишите функцию, которая принимает имя картинки (без папки, только имя) и определяет, есть ли рука на этой картинке\n",
    "\n",
    "![](https://github.com/vv73/HandsMediapipe/raw/master/_common_res/task2.png)"
   ],
   "metadata": {
    "collapsed": false,
    "pycharm": {
     "name": "#%% md\n"
    }
   }
  },
  {
   "cell_type": "code",
   "execution_count": 17,
   "outputs": [],
   "source": [
    "def hand_detected(pic_name):\n",
    "    # 2. Подготовливаем изображение\n",
    "    cv_mat = cv2.cvtColor(cv2.imread(pic_name), cv2.COLOR_RGB2BGR)\n",
    "    image = mp.Image(image_format=mp.ImageFormat.SRGB, data=cv_mat)\n",
    "    # 3. Самое главное: РАСПОЗНАЕМ\n",
    "    detection_result = detector.detect(image)\n",
    "    result = False\n",
    "    if len(detection_result.handedness) > 0:\n",
    "        result = True\n",
    "    return result"
   ],
   "metadata": {
    "collapsed": false,
    "pycharm": {
     "name": "#%%\n"
    }
   }
  },
  {
   "cell_type": "markdown",
   "source": [
    "Запустите ячейку выше, а затем ниже, чтобы протестировать свое решение"
   ],
   "metadata": {
    "collapsed": false,
    "pycharm": {
     "name": "#%% md\n"
    }
   }
  },
  {
   "cell_type": "code",
   "execution_count": 18,
   "outputs": [
    {
     "name": "stdout",
     "output_type": "stream",
     "text": [
      "[]\n"
     ]
    },
    {
     "data": {
      "text/plain": "False"
     },
     "execution_count": 18,
     "metadata": {},
     "output_type": "execute_result"
    }
   ],
   "source": [
    "# У учащихся просто \"test/...\"\n",
    "if not hand_detected(\"../test/no_hand1.png\") and hand_detected(\"../test/hand1.png\"):\n",
    "    print(\"OK\")\n",
    "else:\n",
    "    print(\"Что-то неправильно...\")"
   ],
   "metadata": {
    "collapsed": false,
    "pycharm": {
     "name": "#%%\n"
    }
   }
  },
  {
   "cell_type": "markdown",
   "source": [
    "## Задание №3\n",
    "\n",
    "Напишите программу, которая раскрашивает подушечки пальцев в разные цвета."
   ],
   "metadata": {
    "collapsed": false,
    "pycharm": {
     "name": "#%% md\n"
    }
   }
  },
  {
   "cell_type": "code",
   "execution_count": null,
   "outputs": [],
   "source": [],
   "metadata": {
    "collapsed": false,
    "pycharm": {
     "name": "#%%\n"
    }
   }
  },
  {
   "cell_type": "markdown",
   "source": [],
   "metadata": {
    "collapsed": false,
    "pycharm": {
     "name": "#%% md\n"
    }
   }
  },
  {
   "cell_type": "code",
   "execution_count": 6,
   "outputs": [
    {
     "name": "stdout",
     "output_type": "stream",
     "text": [
      "1.9021024538079832\n",
      "1.7622291157797787\n",
      "1.5933983872927395\n",
      "1.6510559063674666\n",
      "1.6458336780770895\n",
      "1.694217630471432\n",
      "1.791008495078791\n",
      "1.8610604306160237\n",
      "1.8718147270240735\n",
      "1.959538296563087\n",
      "2.0338657039593997\n",
      "2.074148859327806\n",
      "2.1469315573556425\n",
      "2.0734549950591483\n",
      "2.053574414196633\n",
      "1.9771139441036305\n",
      "1.9840778272085622\n",
      "1.932964885890519\n",
      "1.4531612338334063\n",
      "1.4354643058486791\n",
      "1.3161179625682364\n",
      "1.276229354657556\n",
      "1.264479901561764\n",
      "1.2500343827263989\n",
      "1.2090284978390802\n",
      "1.1808763559646027\n",
      "1.1324040145752148\n",
      "1.0968365348938243\n",
      "1.1048365849280077\n",
      "1.1083057237769915\n",
      "1.106939104622971\n",
      "1.0987398249791096\n",
      "1.1111205454412123\n",
      "1.1318013320751366\n",
      "1.1156326116188708\n",
      "1.1473309318023528\n",
      "1.1115930651121737\n",
      "1.1170994581792781\n",
      "1.1080857040488234\n",
      "1.1072683760805153\n",
      "1.1735927872636602\n",
      "1.130912590688417\n",
      "1.0630500243270653\n",
      "1.0999562470015203\n",
      "1.1130139537401342\n",
      "1.041289271973865\n",
      "1.0950827386729758\n",
      "1.0340596738444596\n",
      "1.1167385196450899\n",
      "1.105814894838274\n",
      "1.049122675823681\n",
      "1.1108197528889139\n",
      "1.1241575297969846\n",
      "1.0656531781181693\n",
      "1.0440480823289573\n",
      "1.1921458751720968\n",
      "1.251337768738604\n",
      "1.9385891005534441\n",
      "1.799251459765603\n",
      "1.7603486663321417\n",
      "1.799395362010339\n",
      "1.7769699698633947\n",
      "1.7482618423889742\n",
      "1.813327770537035\n",
      "1.779455746398096\n",
      "1.9225420167110991\n",
      "1.9479840158631052\n",
      "2.0152177042115498\n",
      "1.9529935796304028\n",
      "2.0136687878684674\n",
      "1.9909721031852265\n",
      "2.0160619379088196\n",
      "1.9133043107943009\n",
      "1.703638787229814\n",
      "1.5169785228842072\n",
      "1.8674876754754797\n",
      "1.4044994668876063\n",
      "1.4224300011678817\n",
      "1.4311746308253936\n",
      "1.4536370708829693\n",
      "1.4474043811482409\n",
      "1.4550024147729301\n",
      "1.410243856822886\n",
      "1.3130684280607643\n",
      "1.2800350564921839\n",
      "1.2499536747509228\n",
      "1.2484653781552169\n",
      "1.2449006789207029\n",
      "1.321670096166435\n",
      "1.409865961743855\n",
      "1.6122578637587195\n",
      "1.7244353244654285\n",
      "1.7835320531115113\n",
      "1.8861241744438833\n",
      "1.9080131858120861\n",
      "1.9005287998946738\n",
      "1.899092110962911\n",
      "1.8969869540297353\n",
      "1.9000273562928067\n",
      "1.8660777807794946\n",
      "1.8563805009649215\n",
      "1.8495483078345485\n",
      "1.7945114372079816\n",
      "1.7662905103774247\n",
      "1.7295690610313685\n",
      "2.1221687761308408\n"
     ]
    }
   ],
   "source": [
    "# 0. Импортируем необходимое\n",
    "# из библиотек OpenCV и MediaPipe\n",
    "import cv2\n",
    "import mediapipe as mp\n",
    "from mediapipe.tasks import python\n",
    "from mediapipe.tasks.python import vision\n",
    "import numpy as np\n",
    "\n",
    "def get_points(landmark, shape):\n",
    "    points = []\n",
    "    for mark in landmark:\n",
    "        points.append([mark.x * shape[1], mark.y * shape[0]])\n",
    "    return np.array(points, dtype=np.int32)\n",
    "\n",
    "def palm_size(landmark, shape):\n",
    "    x1, y1 = landmark[0].x * shape[1], landmark[0].y * shape[0]\n",
    "    x2, y2 = landmark[5].x * shape[1], landmark[5].y * shape[0]\n",
    "    return ((x1 - x2)**2 + (y1 - y2) **2) **.5\n",
    "\n",
    "# 1. Создаем и настраиваем детектор\n",
    "base_options = python.BaseOptions(model_asset_path='hand_landmarker.task')\n",
    "options = vision.HandLandmarkerOptions(base_options=base_options,\n",
    "                                       num_hands=2)\n",
    "detector = vision.HandLandmarker.create_from_options(options)\n",
    "\n",
    "cap = cv2.VideoCapture(0)\n",
    "\n",
    "while(cap.isOpened()):\n",
    "    ret, frame = cap.read()\n",
    "    if cv2.waitKey(1) & 0xFF == ord('q') or not ret:\n",
    "        break\n",
    "    flipped = np.fliplr(frame)\n",
    "    # переводим его в формат RGB для распознавания\n",
    "    cv_mat = cv2.cvtColor(flipped, cv2.COLOR_BGR2RGB)\n",
    "    image = mp.Image(image_format=mp.ImageFormat.SRGB, data=cv_mat)\n",
    "    # Распознаем\n",
    "    results = detector.detect(image)\n",
    "    # Рисуем распознанное, если распозналось\n",
    "    if len(results.hand_landmarks) > 0:\n",
    "         #cv2.drawContours(flipped, [get_points(results.hand_landmarks[0], cv_mat.shape)], 0, (255, 0, 0), 2)\n",
    "         (x, y), r = cv2.minEnclosingCircle(get_points(results.hand_landmarks[0], cv_mat.shape))\n",
    "         ws = palm_size(results.hand_landmarks[0], cv_mat.shape)\n",
    "         print(2 * r / ws)\n",
    "\n",
    "         # Коэффициент 1.3 следует подобрать\n",
    "         if 2 * r / ws > 1.3:\n",
    "             cv2.circle(cv_mat,(int(x), int(y)), int(r), (0, 0, 255), 2)\n",
    "         else:\n",
    "             cv2.circle(cv_mat,(int(x), int(y)), int(r), (0, 255, 0), 2)\n",
    "\n",
    "\n",
    "    # переводим в BGR и показываем результат\n",
    "    res_image = cv2.cvtColor(cv_mat, cv2.COLOR_RGB2BGR)\n",
    "    cv2.imshow(\"Hands\", res_image)\n",
    "\n",
    "# освобождаем ресурсы\n",
    "detector.close()"
   ],
   "metadata": {
    "collapsed": false,
    "pycharm": {
     "name": "#%%\n"
    }
   }
  },
  {
   "cell_type": "code",
   "execution_count": null,
   "outputs": [],
   "source": [],
   "metadata": {
    "collapsed": false,
    "pycharm": {
     "name": "#%%\n",
     "is_executing": true
    }
   }
  },
  {
   "cell_type": "code",
   "execution_count": 4,
   "outputs": [],
   "source": [],
   "metadata": {
    "collapsed": false,
    "pycharm": {
     "name": "#%%\n"
    }
   }
  }
 ],
 "metadata": {
  "kernelspec": {
   "display_name": "Python 3",
   "language": "python",
   "name": "python3"
  },
  "language_info": {
   "codemirror_mode": {
    "name": "ipython",
    "version": 2
   },
   "file_extension": ".py",
   "mimetype": "text/x-python",
   "name": "python",
   "nbconvert_exporter": "python",
   "pygments_lexer": "ipython2",
   "version": "2.7.6"
  }
 },
 "nbformat": 4,
 "nbformat_minor": 0
}