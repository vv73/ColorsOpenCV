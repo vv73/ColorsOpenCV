{
 "cells": [
  {
   "cell_type": "markdown",
   "source": [
    "# Рабочая тетрадь к занятию «Mediapipe. Модуль Hands»"
   ],
   "metadata": {
    "collapsed": false,
    "pycharm": {
     "name": "#%% md\n"
    }
   }
  },
  {
   "cell_type": "markdown",
   "source": [
    "## Задание №1\n",
    "Переделайте программу так, чтобы она брала изображение с камеры и обрабатывала видеопоток"
   ],
   "metadata": {
    "collapsed": false,
    "pycharm": {
     "name": "#%% md\n"
    }
   }
  },
  {
   "cell_type": "code",
   "execution_count": 3,
   "outputs": [],
   "source": [
    "# 0. Импортируем необходимое\n",
    "# из библиотек OpenCV и MediaPipe\n",
    "import cv2\n",
    "import mediapipe as mp\n",
    "from mediapipe.tasks import python\n",
    "from mediapipe.tasks.python import vision\n",
    "# и собственную функцию для рисования\n",
    "from draw_landmarks import draw_landmarks_on_image"
   ],
   "metadata": {
    "collapsed": false,
    "pycharm": {
     "name": "#%%\n"
    }
   }
  },
  {
   "cell_type": "code",
   "execution_count": 19,
   "outputs": [],
   "source": [
    "# 1. Создаем и настраиваем детектор\n",
    "base_options = python.BaseOptions(model_asset_path='hand_landmarker.task')\n",
    "options = vision.HandLandmarkerOptions(base_options=base_options,\n",
    "                                       num_hands=2)\n",
    "detector = vision.HandLandmarker.create_from_options(options)"
   ],
   "metadata": {
    "collapsed": false,
    "pycharm": {
     "name": "#%%\n"
    }
   }
  },
  {
   "cell_type": "code",
   "execution_count": null,
   "metadata": {
    "collapsed": true,
    "pycharm": {
     "name": "#%%\n"
    }
   },
   "outputs": [],
   "source": [
    "# 2 Oткрываем видеопоток\n",
    "cap = cv2.VideoCapture(0)\n",
    "if not cap.isOpened():\n",
    "  raise IOError(\"Ошибка видеозахвата!\")\n",
    "\n",
    "key = None\n",
    "# завершить программу можно клавишей ESC\n",
    "while cap.isOpened() and key != 27:\n",
    "    # 2. Подготовливаем изображение\n",
    "    ret, frame = cap.read()\n",
    "    if ret != True:\n",
    "        continue\n",
    "    # Отражаем кадр по горизонтали\n",
    "    frame = frame[:, ::-1, :]\n",
    "    # Перeводим его в формат Mediapipe-изображений\n",
    "    frame = cv2.cvtColor(frame, cv2.COLOR_BGR2RGB)\n",
    "    image = mp.Image(image_format=mp.ImageFormat.SRGB, data=frame)\n",
    "\n",
    "    # 3. Самое главное: РАСПОЗНАЕМ\n",
    "    detection_result = detector.detect(image)\n",
    "\n",
    "    # Отрисовываем результат распознавания\n",
    "    annotated_image = draw_landmarks_on_image(image, detection_result)\n",
    "    cv2.imshow(\"Result\", cv2.cvtColor(annotated_image, cv2.COLOR_RGB2BGR))\n",
    "\n",
    "    # Задерживаем программу до нажатия на кнопку\n",
    "    key = cv2.waitKey(1)\n",
    "cv2.destroyAllWindows()"
   ]
  },
  {
   "cell_type": "markdown",
   "source": [
    "## Задание №2\n",
    "Допишите функцию, которая принимает имя картинки (без папки, только имя) и определяет, есть ли рука на этой картинке\n",
    "\n",
    "![](https://github.com/vv73/HandsMediapipe/raw/master/_common_res/task2.png)"
   ],
   "metadata": {
    "collapsed": false,
    "pycharm": {
     "name": "#%% md\n"
    }
   }
  },
  {
   "cell_type": "code",
   "execution_count": 17,
   "outputs": [],
   "source": [
    "def hand_detected(pic_name):\n",
    "    # 2. Подготовливаем изображение\n",
    "    cv_mat = cv2.cvtColor(cv2.imread(pic_name), cv2.COLOR_RGB2BGR)\n",
    "    image = mp.Image(image_format=mp.ImageFormat.SRGB, data=cv_mat)\n",
    "    # 3. Самое главное: РАСПОЗНАЕМ\n",
    "    detection_result = detector.detect(image)\n",
    "    result = False\n",
    "    if len(detection_result.handedness) > 0:\n",
    "        result = True\n",
    "    return result"
   ],
   "metadata": {
    "collapsed": false,
    "pycharm": {
     "name": "#%%\n"
    }
   }
  },
  {
   "cell_type": "markdown",
   "source": [
    "Запустите ячейку выше, а затем ниже, чтобы протестировать свое решение"
   ],
   "metadata": {
    "collapsed": false,
    "pycharm": {
     "name": "#%% md\n"
    }
   }
  },
  {
   "cell_type": "code",
   "execution_count": 18,
   "outputs": [
    {
     "name": "stdout",
     "output_type": "stream",
     "text": [
      "[]\n"
     ]
    },
    {
     "data": {
      "text/plain": "False"
     },
     "execution_count": 18,
     "metadata": {},
     "output_type": "execute_result"
    }
   ],
   "source": [
    "# У учащихся просто \"test/...\"\n",
    "if not hand_detected(\"../test/no_hand1.png\") and hand_detected(\"../test/hand1.png\"):\n",
    "    print(\"OK\")\n",
    "else:\n",
    "    print(\"Что-то неправильно...\")"
   ],
   "metadata": {
    "collapsed": false,
    "pycharm": {
     "name": "#%%\n"
    }
   }
  },
  {
   "cell_type": "code",
   "execution_count": null,
   "outputs": [],
   "source": [],
   "metadata": {
    "collapsed": false,
    "pycharm": {
     "name": "#%%\n"
    }
   }
  }
 ],
 "metadata": {
  "kernelspec": {
   "display_name": "Python 3",
   "language": "python",
   "name": "python3"
  },
  "language_info": {
   "codemirror_mode": {
    "name": "ipython",
    "version": 2
   },
   "file_extension": ".py",
   "mimetype": "text/x-python",
   "name": "python",
   "nbconvert_exporter": "python",
   "pygments_lexer": "ipython2",
   "version": "2.7.6"
  }
 },
 "nbformat": 4,
 "nbformat_minor": 0
}