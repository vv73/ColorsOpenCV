{
 "cells": [
  {
   "cell_type": "markdown",
   "source": [
    "# Рабочая тетрадь к занятию «Mediapipe. Модуль Hands»"
   ],
   "metadata": {
    "collapsed": false,
    "pycharm": {
     "name": "#%% md\n"
    }
   }
  },
  {
   "cell_type": "markdown",
   "source": [
    "## Задание №1\n",
    "Переделайте программу так, чтобы она брала изображение с камеры и обрабатывала видеопоток"
   ],
   "metadata": {
    "collapsed": false,
    "pycharm": {
     "name": "#%% md\n"
    }
   }
  },
  {
   "cell_type": "code",
   "execution_count": 4,
   "metadata": {
    "collapsed": true,
    "pycharm": {
     "name": "#%%\n"
    }
   },
   "outputs": [],
   "source": [
    "# 0. Импортируем необходимое\n",
    "# из библиотек OpenCV и MediaPipe\n",
    "import cv2\n",
    "import mediapipe as mp\n",
    "from mediapipe.tasks import python\n",
    "from mediapipe.tasks.python import vision\n",
    "# и собственную функцию для рисования\n",
    "from draw_landmarks import draw_landmarks_on_image\n",
    "\n",
    "# 1. Создаем и настраиваем детектор\n",
    "base_options = python.BaseOptions(model_asset_path='hand_landmarker.task')\n",
    "options = vision.HandLandmarkerOptions(base_options=base_options,\n",
    "                                       num_hands=2)\n",
    "detector = vision.HandLandmarker.create_from_options(options)\n",
    "\n",
    "# 2 открываем видедеопоток\n",
    "cap = cv2.VideoCapture(0)\n",
    "if not cap.isOpened():\n",
    "  raise IOError(\"Ошибка видеозахвата!\")\n",
    "\n",
    "key = None\n",
    "# завершить программу можно клавишей ESC\n",
    "while cap.isOpened() and key != 27:\n",
    "    # 2. Подготовливаем изображение\n",
    "    ret, frame = cap.read()\n",
    "    if ret != True:\n",
    "        continue\n",
    "    # Отражаем кадр по горизонтали\n",
    "    frame = frame[:, ::-1, :]\n",
    "    # Перeводим его в формат Mediapipe-изображений\n",
    "    frame = cv2.cvtColor(frame, cv2.COLOR_RGB2BGR)\n",
    "    image = mp.Image(image_format=mp.ImageFormat.SRGB, data=frame)\n",
    "\n",
    "    # 3. Самое главное: РАСПОЗНАЕМ\n",
    "    detection_result = detector.detect(image)\n",
    "\n",
    "    # Отрисовываем результат распознавания\n",
    "    annotated_image = draw_landmarks_on_image(image, detection_result)\n",
    "    cv2.imshow(\"Result\", cv2.cvtColor(annotated_image, cv2.COLOR_RGB2BGR))\n",
    "\n",
    "    # Задерживаем программу до нажатия на кнопку\n",
    "    key = cv2.waitKey(1)\n",
    "cv2.destroyAllWindows()"
   ]
  }
 ],
 "metadata": {
  "kernelspec": {
   "display_name": "Python 3",
   "language": "python",
   "name": "python3"
  },
  "language_info": {
   "codemirror_mode": {
    "name": "ipython",
    "version": 2
   },
   "file_extension": ".py",
   "mimetype": "text/x-python",
   "name": "python",
   "nbconvert_exporter": "python",
   "pygments_lexer": "ipython2",
   "version": "2.7.6"
  }
 },
 "nbformat": 4,
 "nbformat_minor": 0
}