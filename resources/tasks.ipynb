{
 "cells": [
  {
   "cell_type": "markdown",
   "source": [
    "# Рабочая тетрадь к занятию «Работа с цветом в ОpenCV»"
   ],
   "metadata": {
    "collapsed": false,
    "pycharm": {
     "name": "#%% md\n"
    }
   }
  },
  {
   "cell_type": "markdown",
   "source": [
    "## Задание №1\n",
    "\n",
    "Вводится число $N$.\n",
    "\n",
    "Программа формирует и сохраняет *красный* квадрат размера $N \\times N$."
   ],
   "metadata": {
    "collapsed": false,
    "pycharm": {
     "name": "#%% md\n"
    }
   }
  },
  {
   "cell_type": "code",
   "execution_count": null,
   "outputs": [],
   "source": [
    "# Импортируем необходимое\n",
    "import cv2\n",
    "import numpy as np\n",
    "\n",
    "N = int(input())\n",
    "\n",
    "# Задерживаем программу до нажатия на кнопку\n",
    "cv2.waitKey(0)"
   ],
   "metadata": {
    "collapsed": false,
    "pycharm": {
     "name": "#%%\n"
    }
   }
  },
  {
   "cell_type": "markdown",
   "source": [
    "## Задание №2\n",
    "\n",
    "Допишите программу так, чтобы остался только синий канал (все стало синим, как будто смотрим через темно-синие очки)"
   ],
   "metadata": {
    "collapsed": false,
    "pycharm": {
     "name": "#%% md\n"
    }
   }
  },
  {
   "cell_type": "code",
   "execution_count": null,
   "outputs": [],
   "source": [
    "# Импортируем необходимое\n",
    "import cv2\n",
    "\n",
    "# Загружаем изображение\n",
    "image = cv2.imread(\"pics/cat1.jpg\")\n",
    "\n",
    "\n",
    "cv2.imshow(\"Result\", image)\n",
    "\n",
    "# Задерживаем программу до нажатия на кнопку\n",
    "cv2.waitKey(0)"
   ],
   "metadata": {
    "collapsed": false,
    "pycharm": {
     "name": "#%%\n",
     "is_executing": true
    }
   }
  },
  {
   "cell_type": "markdown",
   "source": [
    "## Задание №3\n",
    "Напишите программу, которая делает современный арт, раскрашивая рисунок по квадратам.\n",
    "\n",
    "Должно получиться примерно так\n",
    "\n",
    "![](https://github.com/vv73/ColorsOpenCV/raw/master/_common_res/task3.png)\n"
   ],
   "metadata": {
    "collapsed": false,
    "pycharm": {
     "name": "#%% md\n"
    }
   }
  },
  {
   "cell_type": "code",
   "execution_count": null,
   "outputs": [],
   "source": [
    "# Импортируем необходимое\n",
    "import cv2\n",
    "\n",
    "# Загружаем изображение\n",
    "image = cv2.imread(\"pics/cat1.jpg\")\n",
    "\n",
    "cv2.imshow(\"Result\", image)\n",
    "\n",
    "# Задерживаем программу до нажатия на кнопку\n",
    "cv2.waitKey(0)"
   ],
   "metadata": {
    "collapsed": false,
    "pycharm": {
     "name": "#%%\n"
    }
   }
  }
 ],
 "metadata": {
  "kernelspec": {
   "display_name": "Python 3",
   "language": "python",
   "name": "python3"
  },
  "language_info": {
   "codemirror_mode": {
    "name": "ipython",
    "version": 2
   },
   "file_extension": ".py",
   "mimetype": "text/x-python",
   "name": "python",
   "nbconvert_exporter": "python",
   "pygments_lexer": "ipython2",
   "version": "2.7.6"
  }
 },
 "nbformat": 4,
 "nbformat_minor": 0
}