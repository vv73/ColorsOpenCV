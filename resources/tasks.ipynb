{
 "cells": [
  {
   "cell_type": "markdown",
   "source": [
    "# Рабочая тетрадь к занятию «Работа с цветом в ОpenCV»"
   ],
   "metadata": {
    "collapsed": false,
    "pycharm": {
     "name": "#%% md\n"
    }
   }
  },
  {
   "cell_type": "markdown",
   "source": [
    "## Задание №1\n",
    "\n",
    "Вводится число $N$.\n",
    "\n",
    "Программа формирует и сохраняет *красный* квадрат размера $N \\times N$."
   ],
   "metadata": {
    "collapsed": false,
    "pycharm": {
     "name": "#%% md\n"
    }
   }
  },
  {
   "cell_type": "code",
   "execution_count": 2,
   "outputs": [
    {
     "data": {
      "text/plain": "-1"
     },
     "execution_count": 2,
     "metadata": {},
     "output_type": "execute_result"
    }
   ],
   "source": [
    "# Импортируем необходимое\n",
    "import cv2\n",
    "import numpy as np\n",
    "\n",
    "N = int(input())\n",
    "\n",
    "image = np.zeros((N, N, 3), dtype=np.uint8)\n",
    "image[:,:,2] = 255\n",
    "cv2.imshow(\"Result\", image)\n",
    "cv2.imwrite(\"red.png\", image)\n",
    "# Задерживаем программу до нажатия на кнопку\n",
    "cv2.waitKey(0)"
   ],
   "metadata": {
    "collapsed": false,
    "pycharm": {
     "name": "#%%\n"
    }
   }
  },
  {
   "cell_type": "markdown",
   "source": [
    "## Задание №2\n",
    "\n",
    "Допишите программу так, чтобы остался только синий канал (все стало синим, как будто смотрим через темно-синие очки)"
   ],
   "metadata": {
    "collapsed": false,
    "pycharm": {
     "name": "#%% md\n"
    }
   }
  },
  {
   "cell_type": "code",
   "execution_count": null,
   "outputs": [],
   "source": [
    "# Импортируем необходимое\n",
    "import cv2\n",
    "\n",
    "# Загружаем изображение\n",
    "image = cv2.imread(\"pics/cat1.jpg\")\n",
    "\n",
    "image[:, :, 1] = 0\n",
    "image[:,:, 2] = 0\n",
    "\n",
    "# или еще лучше - одной командой\n",
    "#image[:,:, 1:] = 0\n",
    "\n",
    "\n",
    "cv2.imshow(\"Result\", image)\n",
    "\n",
    "# Задерживаем программу до нажатия на кнопку\n",
    "cv2.waitKey(0)"
   ],
   "metadata": {
    "collapsed": false,
    "pycharm": {
     "name": "#%%\n",
     "is_executing": true
    }
   }
  },
  {
   "cell_type": "markdown",
   "source": [
    "## Задание №3\n",
    "Напишите программу, которая делает современный арт, раскрашивая рисунок по квадратам.\n",
    "\n",
    "Должно получиться примерно так\n",
    "\n",
    "![](https://github.com/vv73/ColorsOpenCV/raw/master/_common_res/task3.png)\n"
   ],
   "metadata": {
    "collapsed": false,
    "pycharm": {
     "name": "#%% md\n"
    }
   }
  },
  {
   "cell_type": "code",
   "execution_count": null,
   "outputs": [
    {
     "ename": "KeyboardInterrupt",
     "evalue": "",
     "output_type": "error",
     "traceback": [
      "\u001B[1;31m---------------------------------------------------------------------------\u001B[0m",
      "\u001B[1;31mKeyboardInterrupt\u001B[0m                         Traceback (most recent call last)",
      "Cell \u001B[1;32mIn[11], line 18\u001B[0m\n\u001B[0;32m     15\u001B[0m cv2\u001B[38;5;241m.\u001B[39mimshow(\u001B[38;5;124m\"\u001B[39m\u001B[38;5;124mResult\u001B[39m\u001B[38;5;124m\"\u001B[39m, image)\n\u001B[0;32m     17\u001B[0m \u001B[38;5;66;03m# Задерживаем программу до нажатия на кнопку\u001B[39;00m\n\u001B[1;32m---> 18\u001B[0m \u001B[43mcv2\u001B[49m\u001B[38;5;241;43m.\u001B[39;49m\u001B[43mwaitKey\u001B[49m\u001B[43m(\u001B[49m\u001B[38;5;241;43m0\u001B[39;49m\u001B[43m)\u001B[49m\n",
      "\u001B[1;31mKeyboardInterrupt\u001B[0m: "
     ]
    }
   ],
   "source": [
    "# Импортируем необходимое\n",
    "import cv2\n",
    "\n",
    "# Загружаем изображение\n",
    "image = cv2.imread(\"pics/cat1.jpg\")\n",
    "wcenter = image.shape[1] // 2\n",
    "hcenter = image.shape[0] // 2\n",
    "\n",
    "image[:hcenter, :wcenter, :2] = 0\n",
    "image[:hcenter, wcenter:, 0] = 0\n",
    "image[hcenter:, wcenter:, 1] = 0\n",
    "image[hcenter:, :wcenter, 2] = 0\n",
    "\n",
    "\n",
    "cv2.imshow(\"Result\", image)\n",
    "\n",
    "# Задерживаем программу до нажатия на кнопку\n",
    "cv2.waitKey(0)"
   ],
   "metadata": {
    "collapsed": false,
    "pycharm": {
     "name": "#%%\n"
    }
   }
  },
  {
   "cell_type": "markdown",
   "source": [
    "## Задание №4\n",
    "\n"
   ],
   "metadata": {
    "collapsed": false,
    "pycharm": {
     "name": "#%% md\n"
    }
   }
  },
  {
   "cell_type": "code",
   "execution_count": null,
   "outputs": [],
   "source": [],
   "metadata": {
    "collapsed": false,
    "pycharm": {
     "name": "#%%\n",
     "is_executing": true
    }
   }
  },
  {
   "cell_type": "markdown",
   "source": [
    "## Задание №4 (*)\n",
    "\n"
   ],
   "metadata": {
    "collapsed": false,
    "pycharm": {
     "name": "#%% md\n"
    }
   }
  },
  {
   "cell_type": "code",
   "execution_count": null,
   "outputs": [],
   "source": [],
   "metadata": {
    "collapsed": false,
    "pycharm": {
     "name": "#%%\n"
    }
   }
  }
 ],
 "metadata": {
  "kernelspec": {
   "display_name": "Python 3",
   "language": "python",
   "name": "python3"
  },
  "language_info": {
   "codemirror_mode": {
    "name": "ipython",
    "version": 2
   },
   "file_extension": ".py",
   "mimetype": "text/x-python",
   "name": "python",
   "nbconvert_exporter": "python",
   "pygments_lexer": "ipython2",
   "version": "2.7.6"
  }
 },
 "nbformat": 4,
 "nbformat_minor": 0
}